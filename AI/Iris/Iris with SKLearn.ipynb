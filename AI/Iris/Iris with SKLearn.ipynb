{
 "cells": [
  {
   "cell_type": "code",
   "execution_count": null,
   "id": "e9f0f9b4",
   "metadata": {},
   "outputs": [],
   "source": [
    "import os\n",
    "import sklearn\n",
    "import pandas as pd\n",
    "import numpy as np\n",
    "\n",
    "from sklearn.model_selection import train_test_split\n",
    "from sklearn import svm"
   ]
  },
  {
   "cell_type": "code",
   "execution_count": null,
   "id": "8c707553",
   "metadata": {},
   "outputs": [],
   "source": [
    "for dirname, _, filenames in os.walk('.'):\n",
    "        for filename in filenames:\n",
    "            print(os.path.join(dirname, filename))"
   ]
  },
  {
   "cell_type": "code",
   "execution_count": null,
   "id": "93045841",
   "metadata": {},
   "outputs": [],
   "source": [
    "iris = pd.read_csv('.\\iris.csv')\n",
    "\n",
    "data = {\n",
    "    \"data\": list(),\n",
    "    \"target\": list()\n",
    "}\n",
    "\n",
    "data_list = list()\n",
    "target_list = list()"
   ]
  },
  {
   "cell_type": "code",
   "execution_count": null,
   "id": "b88e70be",
   "metadata": {},
   "outputs": [],
   "source": [
    "for index, row in iris.iterrows():\n",
    "    row_data = list()\n",
    "    \n",
    "    row_data.append(row[\"sepal.length\"])\n",
    "    row_data.append(row[\"sepal.width\"])\n",
    "    row_data.append(row[\"petal.length\"])\n",
    "    row_data.append(row[\"petal.width\"])\n",
    "    \n",
    "    data_list.append(row_data)\n",
    "    target_list.append(row[\"variety\"])\n",
    "    \n",
    "data_array = np.array(data_list)\n",
    "target_array = np.array(target_list)\n",
    "data[\"data\"] = data_array\n",
    "data[\"target\"] = target_array"
   ]
  },
  {
   "cell_type": "code",
   "execution_count": null,
   "id": "9825e68f",
   "metadata": {},
   "outputs": [],
   "source": [
    "X = data[\"data\"][:,:2]\n",
    "Y = data[\"target\"]\n",
    "\n",
    "X_train, X_test, y_train, y_test = train_test_split(X, Y, test_size=0.4, random_state=0)"
   ]
  },
  {
   "cell_type": "code",
   "execution_count": null,
   "id": "a04208ef",
   "metadata": {},
   "outputs": [],
   "source": [
    "clf = svm.SVC(kernel=\"poly\", degree=3, gamma=\"auto\", C=1).fit(X_train, y_train)\n",
    "model = clf"
   ]
  },
  {
   "cell_type": "code",
   "execution_count": null,
   "id": "34485564",
   "metadata": {},
   "outputs": [],
   "source": [
    "prediction = np.array([1.3, 5.2])\n",
    "clf.predict([prediction])"
   ]
  },
  {
   "cell_type": "code",
   "execution_count": null,
   "id": "2b1b10ca",
   "metadata": {},
   "outputs": [],
   "source": [
    "y = list()\n",
    "for element in Y:\n",
    "    if element == 'Setosa':\n",
    "        y.append(0)\n",
    "    elif element == 'Versicolor':\n",
    "        y.append(1)\n",
    "    elif element == 'Virginica':\n",
    "        y.append(2)\n",
    "print(y)"
   ]
  },
  {
   "cell_type": "code",
   "execution_count": null,
   "id": "f642e549",
   "metadata": {},
   "outputs": [],
   "source": [
    "import numpy as np\n",
    "import matplotlib.pyplot as plt\n",
    "from sklearn import svm, datasets\n",
    "\n",
    "\n",
    "def make_meshgrid(x, y, h=0.02):\n",
    "    x_min, x_max = x.min() - 1, x.max() + 1\n",
    "    y_min, y_max = y.min() - 1, y.max() + 1\n",
    "    xx, yy = np.meshgrid(np.arange(x_min, x_max, h), np.arange(y_min, y_max, h))\n",
    "    return xx, yy\n",
    "\n",
    "\n",
    "def plot_contours(ax, clf, xx, yy, **params):\n",
    "    Z = clf.predict(np.c_[xx.ravel(), yy.ravel()])\n",
    "    \n",
    "    z = list()\n",
    "    for element in Z:\n",
    "        if element == 'Setosa':\n",
    "            z.append(0)\n",
    "        elif element == 'Versicolor':\n",
    "            z.append(1)\n",
    "        elif element == 'Virginica':\n",
    "            z.append(2)\n",
    "    z = np.array(z)\n",
    "    z = z.reshape(xx.shape)\n",
    "    out = ax.contourf(xx, yy, z, **params)\n",
    "    return out\n",
    "\n",
    "fig, ax = plt.subplots()\n",
    "\n",
    "X0, X1 = X[:, 0], X[:, 1]\n",
    "xx, yy = make_meshgrid(X0, X1)\n",
    "\n",
    "x_linspace = np.linspace(xx.min(),xx.max(), num = 5)\n",
    "y_linspace = np.linspace(yy.min(),yy.max(), num = 5)\n",
    "\n",
    "plot_contours(ax, clf, xx, yy, cmap=plt.cm.coolwarm, alpha=0.8)\n",
    "ax.scatter(X0, X1, c=y, cmap=plt.cm.coolwarm, s=20, edgecolors=\"k\")\n",
    "ax.set_xlim(xx.min(), xx.max())\n",
    "ax.set_ylim(yy.min(), yy.max())\n",
    "ax.set_xlabel(\"Sepal length\")\n",
    "ax.set_ylabel(\"Sepal width\")\n",
    "ax.set_xticks(x_linspace)\n",
    "ax.set_yticks(y_linspace)\n",
    "ax.set_title(\"SVC\")\n",
    "\n",
    "plt.show()"
   ]
  }
 ],
 "metadata": {
  "kernelspec": {
   "display_name": "Python 3 (ipykernel)",
   "language": "python",
   "name": "python3"
  },
  "language_info": {
   "codemirror_mode": {
    "name": "ipython",
    "version": 3
   },
   "file_extension": ".py",
   "mimetype": "text/x-python",
   "name": "python",
   "nbconvert_exporter": "python",
   "pygments_lexer": "ipython3",
   "version": "3.9.7"
  }
 },
 "nbformat": 4,
 "nbformat_minor": 5
}
