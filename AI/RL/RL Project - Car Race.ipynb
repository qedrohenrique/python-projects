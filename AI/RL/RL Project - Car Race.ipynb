{
 "cells": [
  {
   "cell_type": "markdown",
   "id": "2ce3ecb9",
   "metadata": {},
   "source": [
    "# Dependências"
   ]
  },
  {
   "cell_type": "code",
   "execution_count": null,
   "id": "739d364f",
   "metadata": {},
   "outputs": [],
   "source": [
    "import os\n",
    "import gym\n",
    "from stable_baselines3 import PPO\n",
    "from stable_baselines3.common.vec_env import DummyVecEnv\n",
    "from stable_baselines3.common.evaluation import evaluate_policy"
   ]
  },
  {
   "cell_type": "markdown",
   "id": "09600bfe",
   "metadata": {},
   "source": [
    "# Ambiente"
   ]
  },
  {
   "cell_type": "code",
   "execution_count": null,
   "id": "78ddab9a",
   "metadata": {},
   "outputs": [],
   "source": [
    "environment_name = 'CarRacing-v0'\n",
    "env = gym.make(environment_name)"
   ]
  },
  {
   "cell_type": "code",
   "execution_count": null,
   "id": "ae0f6579",
   "metadata": {},
   "outputs": [],
   "source": [
    "env.close()"
   ]
  },
  {
   "cell_type": "code",
   "execution_count": null,
   "id": "b8d09ce3",
   "metadata": {},
   "outputs": [],
   "source": [
    "episodes = 2\n",
    "for episode in range(1, episodes+1):\n",
    "    state = env.reset()\n",
    "    done = False\n",
    "    score = 0 \n",
    "    \n",
    "    while not done:\n",
    "        env.render()\n",
    "        action = env.action_space.sample()\n",
    "        n_state, reward, done, info = env.step(action)\n",
    "        score+=reward\n",
    "    print('Episode:{} Score:{}'.format(episode, score))\n",
    "env.close()"
   ]
  },
  {
   "cell_type": "markdown",
   "id": "f6353c51",
   "metadata": {},
   "source": [
    "# Treinando modelo"
   ]
  },
  {
   "cell_type": "code",
   "execution_count": null,
   "id": "1675bf04",
   "metadata": {},
   "outputs": [],
   "source": [
    "env = gym.make(environment_name)\n",
    "env = DummyVecEnv([lambda: env])"
   ]
  },
  {
   "cell_type": "code",
   "execution_count": null,
   "id": "9e415d27",
   "metadata": {},
   "outputs": [],
   "source": [
    "log_path = os.path.join('Training','Logs')\n",
    "model = PPO('CnnPolicy', env, verbose = 1, tensorboard_log = log_path)"
   ]
  },
  {
   "cell_type": "code",
   "execution_count": null,
   "id": "3e23cb7d",
   "metadata": {
    "scrolled": true
   },
   "outputs": [],
   "source": [
    "model.learn(total_timesteps = 10000)"
   ]
  },
  {
   "cell_type": "markdown",
   "id": "9f208b10",
   "metadata": {},
   "source": [
    "# Salvando modelo"
   ]
  },
  {
   "cell_type": "code",
   "execution_count": null,
   "id": "a9c273f9",
   "metadata": {},
   "outputs": [],
   "source": [
    "ppo_path = os.path.join('Training', 'Saved Models', 'PPO_Driving_Model')"
   ]
  },
  {
   "cell_type": "code",
   "execution_count": null,
   "id": "13753195",
   "metadata": {},
   "outputs": [],
   "source": [
    "model.save(ppo_path)"
   ]
  },
  {
   "cell_type": "code",
   "execution_count": null,
   "id": "ae6c2942",
   "metadata": {},
   "outputs": [],
   "source": [
    "del model"
   ]
  },
  {
   "cell_type": "code",
   "execution_count": null,
   "id": "5e3a0bf2",
   "metadata": {},
   "outputs": [],
   "source": [
    "model = PPO.load(ppo_path, env)"
   ]
  },
  {
   "cell_type": "markdown",
   "id": "5a1adcae",
   "metadata": {},
   "source": [
    "# Avaliação"
   ]
  },
  {
   "cell_type": "code",
   "execution_count": null,
   "id": "e8d4e54d",
   "metadata": {
    "scrolled": true
   },
   "outputs": [],
   "source": [
    "evaluate_policy(model, env, n_eval_episodes = 10, render = True)"
   ]
  },
  {
   "cell_type": "code",
   "execution_count": null,
   "id": "ec3c2fa8",
   "metadata": {},
   "outputs": [],
   "source": [
    "env.close()"
   ]
  },
  {
   "cell_type": "code",
   "execution_count": null,
   "id": "15f5cacf",
   "metadata": {},
   "outputs": [],
   "source": []
  }
 ],
 "metadata": {
  "kernelspec": {
   "display_name": "Python 3 (ipykernel)",
   "language": "python",
   "name": "python3"
  },
  "language_info": {
   "codemirror_mode": {
    "name": "ipython",
    "version": 3
   },
   "file_extension": ".py",
   "mimetype": "text/x-python",
   "name": "python",
   "nbconvert_exporter": "python",
   "pygments_lexer": "ipython3",
   "version": "3.9.7"
  }
 },
 "nbformat": 4,
 "nbformat_minor": 5
}
