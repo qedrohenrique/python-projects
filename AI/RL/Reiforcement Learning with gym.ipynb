{
 "cells": [
  {
   "cell_type": "markdown",
   "id": "963f82aa",
   "metadata": {},
   "source": [
    "# Pacotes / Bibliotecas"
   ]
  },
  {
   "cell_type": "code",
   "execution_count": null,
   "id": "5f2d5e7f",
   "metadata": {},
   "outputs": [],
   "source": [
    "import os\n",
    "import gym\n",
    "from stable_baselines3 import PPO\n",
    "from stable_baselines3.common.vec_env import DummyVecEnv\n",
    "from stable_baselines3.common.evaluation import evaluate_policy"
   ]
  },
  {
   "cell_type": "markdown",
   "id": "f377394b",
   "metadata": {},
   "source": [
    "# Ambiente"
   ]
  },
  {
   "cell_type": "code",
   "execution_count": null,
   "id": "13f75cb2",
   "metadata": {},
   "outputs": [],
   "source": [
    "enviroment_name = 'CartPole-v0'\n",
    "env = gym.make(enviroment_name )"
   ]
  },
  {
   "cell_type": "code",
   "execution_count": null,
   "id": "f7750db8",
   "metadata": {},
   "outputs": [],
   "source": [
    "episodes = 5\n",
    "\n",
    "for episode in range(1, episodes + 1):\n",
    "    state = env.reset()\n",
    "    done = False\n",
    "    score = 0\n",
    "    \n",
    "    while not done:\n",
    "        env.render()\n",
    "        action = env.action_space.sample()\n",
    "        n_state, reward, done, info = env.step(action)\n",
    "        score += reward\n",
    "    print('Episode: {}  Score: {}'.format(episode, score))\n",
    "        \n",
    "env.close()"
   ]
  },
  {
   "cell_type": "markdown",
   "id": "311a3830",
   "metadata": {},
   "source": [
    "# Treinando o modelo AR"
   ]
  },
  {
   "cell_type": "code",
   "execution_count": null,
   "id": "d73f4b9d",
   "metadata": {},
   "outputs": [],
   "source": [
    "parent_dir = os.getcwd()\n",
    "path = os.path.join(parent_dir,'Training')\n",
    "try:\n",
    "    os.mkdir(path)\n",
    "    os.mkdir(os.path.join(path,'Logs'))\n",
    "    os.mkdir(os.path.join(path,'Saved Models'))\n",
    "except OSError as e:\n",
    "    print(e)"
   ]
  },
  {
   "cell_type": "code",
   "execution_count": null,
   "id": "317e3ba5",
   "metadata": {},
   "outputs": [],
   "source": [
    "log_path = os.path.join('Training', 'Logs')"
   ]
  },
  {
   "cell_type": "code",
   "execution_count": null,
   "id": "17fea5a0",
   "metadata": {},
   "outputs": [],
   "source": [
    "env = gym.make(enviroment_name)\n",
    "env = DummyVecEnv([lambda: env])\n",
    "model = PPO('MlpPolicy', env, verbose = 1, tensorboard_log = log_path)"
   ]
  },
  {
   "cell_type": "code",
   "execution_count": null,
   "id": "9b5e109c",
   "metadata": {},
   "outputs": [],
   "source": [
    "model.learn(total_timesteps = 20000)"
   ]
  },
  {
   "cell_type": "markdown",
   "id": "e26c01e8",
   "metadata": {},
   "source": [
    "# Salvando e recarregando o modelo"
   ]
  },
  {
   "cell_type": "code",
   "execution_count": null,
   "id": "c624888f",
   "metadata": {},
   "outputs": [],
   "source": [
    "PPO_Path = os.path.join('Training', 'Saved Models', 'PPO_Model_Cartpole')\n",
    "model.save(PPO_Path)"
   ]
  },
  {
   "cell_type": "code",
   "execution_count": null,
   "id": "496e61b6",
   "metadata": {
    "scrolled": true
   },
   "outputs": [],
   "source": [
    "del model"
   ]
  },
  {
   "cell_type": "code",
   "execution_count": null,
   "id": "471a9f71",
   "metadata": {},
   "outputs": [],
   "source": [
    "model = PPO.load(PPO_Path)"
   ]
  },
  {
   "cell_type": "markdown",
   "id": "fff6bfd6",
   "metadata": {},
   "source": [
    "# Avaliação"
   ]
  },
  {
   "cell_type": "code",
   "execution_count": null,
   "id": "e85920ff",
   "metadata": {},
   "outputs": [],
   "source": [
    "evaluate_policy(model, env, n_eval_episodes = 10, render = True)"
   ]
  },
  {
   "cell_type": "code",
   "execution_count": null,
   "id": "d0ad1c9d",
   "metadata": {},
   "outputs": [],
   "source": [
    "env.close()"
   ]
  },
  {
   "cell_type": "markdown",
   "id": "32336e87",
   "metadata": {},
   "source": [
    "# Testando modelo"
   ]
  },
  {
   "cell_type": "code",
   "execution_count": null,
   "id": "76f7659a",
   "metadata": {},
   "outputs": [],
   "source": [
    "episodes = 5\n",
    "\n",
    "for episode in range(1, episodes + 1):\n",
    "    obs = env.reset()\n",
    "    done = False\n",
    "    score = 0\n",
    "    \n",
    "    while not done:\n",
    "        env.render()\n",
    "        action, _ = model.predict(obs)\n",
    "        obs, reward, done, info = env.step(action)\n",
    "        score += reward\n",
    "    print('Episode: {}  Score: {}'.format(episode, score))\n",
    "        \n",
    "env.close()"
   ]
  },
  {
   "cell_type": "markdown",
   "id": "f5837a03",
   "metadata": {},
   "source": [
    "# Visualizando Logs com Tensorboard"
   ]
  },
  {
   "cell_type": "code",
   "execution_count": null,
   "id": "7e93c1e1",
   "metadata": {},
   "outputs": [],
   "source": [
    "training_path_log = os.path.join(log_path, 'PPO_2')"
   ]
  },
  {
   "cell_type": "code",
   "execution_count": null,
   "id": "3e91f532",
   "metadata": {},
   "outputs": [],
   "source": [
    "training_path_log"
   ]
  },
  {
   "cell_type": "code",
   "execution_count": null,
   "id": "e472dd2e",
   "metadata": {},
   "outputs": [],
   "source": [
    "!tensorboard --logdir={training_path_log}"
   ]
  },
  {
   "cell_type": "markdown",
   "id": "a5e4c247",
   "metadata": {},
   "source": [
    "# Callback"
   ]
  },
  {
   "cell_type": "code",
   "execution_count": null,
   "id": "2a48ff8d",
   "metadata": {},
   "outputs": [],
   "source": [
    "from stable_baselines3.common.callbacks import EvalCallback, StopTrainingOnRewardThreshold"
   ]
  },
  {
   "cell_type": "code",
   "execution_count": null,
   "id": "eb1cebcd",
   "metadata": {},
   "outputs": [],
   "source": [
    "save_path = os.path.join('Training', 'Saved Models')"
   ]
  },
  {
   "cell_type": "code",
   "execution_count": null,
   "id": "6188b950",
   "metadata": {},
   "outputs": [],
   "source": [
    "stop_callback = StopTrainingOnRewardThreshold(reward_threshold = 200, verbose = 1)\n",
    "eval_callback = EvalCallback(env,\n",
    "                            callback_on_new_best = stop_callback,\n",
    "                             eval_freq = 10000,\n",
    "                             best_model_save_path = save_path,\n",
    "                             verbose = 1)"
   ]
  },
  {
   "cell_type": "code",
   "execution_count": null,
   "id": "4f7b7293",
   "metadata": {},
   "outputs": [],
   "source": [
    "model = PPO('MlpPolicy', env, verbose = 1, tensorboard_log = log_path)"
   ]
  },
  {
   "cell_type": "code",
   "execution_count": null,
   "id": "e14af538",
   "metadata": {},
   "outputs": [],
   "source": [
    "model.learn(total_timesteps = 20000, callback = eval_callback)"
   ]
  },
  {
   "cell_type": "markdown",
   "id": "4073e71f",
   "metadata": {},
   "source": [
    "# Mudando políticas"
   ]
  },
  {
   "cell_type": "code",
   "execution_count": null,
   "id": "db83aa79",
   "metadata": {},
   "outputs": [],
   "source": [
    "net_arch = [dict(pi = [128, 128, 128, 128], vf = [128, 128, 128, 128])]"
   ]
  },
  {
   "cell_type": "code",
   "execution_count": null,
   "id": "d4feb264",
   "metadata": {},
   "outputs": [],
   "source": [
    "model = PPO('MlpPolicy', env, verbose = 1, tensorboard_log = log_path, policy_kwargs = {'net_arch':net_arch})"
   ]
  },
  {
   "cell_type": "code",
   "execution_count": null,
   "id": "b4456dba",
   "metadata": {},
   "outputs": [],
   "source": [
    "model.learn(total_timesteps = 20000, callback = eval_callback)"
   ]
  },
  {
   "cell_type": "markdown",
   "id": "8e6ff321",
   "metadata": {},
   "source": [
    "# Mudando algoritmos"
   ]
  },
  {
   "cell_type": "code",
   "execution_count": null,
   "id": "8e18f707",
   "metadata": {},
   "outputs": [],
   "source": [
    "from stable_baselines3 import DQN"
   ]
  },
  {
   "cell_type": "code",
   "execution_count": null,
   "id": "6f38fd14",
   "metadata": {},
   "outputs": [],
   "source": [
    "model = DQN('MlpPolicy', env, verbose = 1, tensorboard_log = log_path)"
   ]
  },
  {
   "cell_type": "code",
   "execution_count": null,
   "id": "bbbafda3",
   "metadata": {},
   "outputs": [],
   "source": [
    "model.learn(total_timesteps = 20000)"
   ]
  },
  {
   "cell_type": "code",
   "execution_count": null,
   "id": "852b37de",
   "metadata": {},
   "outputs": [],
   "source": []
  }
 ],
 "metadata": {
  "kernelspec": {
   "display_name": "Python 3 (ipykernel)",
   "language": "python",
   "name": "python3"
  },
  "language_info": {
   "codemirror_mode": {
    "name": "ipython",
    "version": 3
   },
   "file_extension": ".py",
   "mimetype": "text/x-python",
   "name": "python",
   "nbconvert_exporter": "python",
   "pygments_lexer": "ipython3",
   "version": "3.9.7"
  }
 },
 "nbformat": 4,
 "nbformat_minor": 5
}
