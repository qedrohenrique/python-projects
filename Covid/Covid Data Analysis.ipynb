{
 "cells": [
  {
   "cell_type": "markdown",
   "id": "144fa8c1",
   "metadata": {},
   "source": [
    "# Covid data analysis \n",
    "Source: https://www.saopaulo.sp.gov.br/planosp/simi/dados-abertos/"
   ]
  },
  {
   "cell_type": "code",
   "execution_count": 1,
   "id": "357046bd",
   "metadata": {},
   "outputs": [],
   "source": [
    "import pandas as pd\n",
    "from sklearn.model_selection import train_test_split\n",
    "from sklearn import metrics\n",
    "import matplotlib.pyplot as plt\n",
    "import os\n",
    "from joblib import dump, load\n",
    "import numpy as np"
   ]
  },
  {
   "cell_type": "code",
   "execution_count": null,
   "id": "cea69979",
   "metadata": {},
   "outputs": [],
   "source": [
    "source = pd.read_csv('./data.csv', sep = ';')\n",
    "columns = ['Genero', 'Diagnostico Covid19', 'Idade', 'Obito']\n",
    "df = source[columns]"
   ]
  },
  {
   "cell_type": "code",
   "execution_count": null,
   "id": "b0f1d81b",
   "metadata": {},
   "outputs": [],
   "source": [
    "display(source)"
   ]
  },
  {
   "cell_type": "code",
   "execution_count": null,
   "id": "534539ee",
   "metadata": {
    "scrolled": true
   },
   "outputs": [],
   "source": [
    "display(df)"
   ]
  },
  {
   "cell_type": "code",
   "execution_count": null,
   "id": "6f3e364f",
   "metadata": {},
   "outputs": [],
   "source": [
    "df = df.dropna(how=\"any\", axis=0)"
   ]
  },
  {
   "cell_type": "code",
   "execution_count": null,
   "id": "0b0c609d",
   "metadata": {},
   "outputs": [],
   "source": [
    "masc_total = df[(df['Genero'] == 'MASCULINO') & (df['Diagnostico Covid19'] == 'CONFIRMADO')].shape[0]\n",
    "fem_total = df[(df['Genero'] == 'FEMININO') & (df['Diagnostico Covid19'] == 'CONFIRMADO')].shape[0]\n",
    "ni = df[(df['Genero'] != 'FEMININO') & (df['Genero'] != 'MASCULINO') & (df['Diagnostico Covid19'] == 'CONFIRMADO')].shape[0]\n",
    "total = df[df['Diagnostico Covid19'] == 'CONFIRMADO'].shape[0]\n",
    "masc = masc_total/total\n",
    "fem = fem_total/total\n",
    "ni_ = ni/total"
   ]
  },
  {
   "cell_type": "code",
   "execution_count": null,
   "id": "073843c0",
   "metadata": {},
   "outputs": [],
   "source": [
    "font_title = {'family': 'serif',\n",
    "        'color':  'darkred',\n",
    "        'weight': 'normal',\n",
    "        'size': 12,\n",
    "        }\n",
    "\n",
    "font_label = {'family': 'serif',\n",
    "        'color':  'black',\n",
    "        'weight': 'normal',\n",
    "        'size': 12,\n",
    "        }"
   ]
  },
  {
   "cell_type": "code",
   "execution_count": null,
   "id": "482a894a",
   "metadata": {},
   "outputs": [],
   "source": [
    "fig, ax = plt.subplots()\n",
    "plt.style.use('ggplot')\n",
    "ax.pie([masc_total, fem_total, ni], labels = ['Male', 'Female', 'Undefined'], autopct = '%1.5f%%', normalize = True, textprops = font_label)\n",
    "plt.title('Contamination by gender', loc = 'left', fontsize = 18, fontdict = font_title)\n",
    "plt.show()"
   ]
  },
  {
   "cell_type": "markdown",
   "id": "a890c30d",
   "metadata": {},
   "source": [
    "# Mortality"
   ]
  },
  {
   "cell_type": "code",
   "execution_count": null,
   "id": "c8d63648",
   "metadata": {},
   "outputs": [],
   "source": [
    "df.Idade = df.Idade.astype(int)"
   ]
  },
  {
   "cell_type": "code",
   "execution_count": null,
   "id": "10bff14b",
   "metadata": {},
   "outputs": [],
   "source": [
    "y = []\n",
    "\n",
    "for i in range(0, 140, 10):\n",
    "    count_obitos = 0\n",
    "    for j in range(i, i+10):\n",
    "        count_obitos += df[(df.Idade == j) & (df.Obito == 1)].shape[0]\n",
    "    mortalidade = count_obitos/df.shape[0]\n",
    "    y.append(mortalidade * 100)"
   ]
  },
  {
   "cell_type": "code",
   "execution_count": null,
   "id": "af698228",
   "metadata": {},
   "outputs": [],
   "source": [
    "fig, ax = plt.subplots()\n",
    "\n",
    "plt.style.use('ggplot')\n",
    "ax.barh(range(0, 140, 10), y, height = 8, align = 'edge')\n",
    "ax.set_ylabel('Age')\n",
    "ax.set_xlabel('Mortality Rate (%)')\n",
    "plt.title('Mortality Rate by ages', loc = 'left', fontsize = 18)\n",
    "\n",
    "plt.show()"
   ]
  },
  {
   "cell_type": "markdown",
   "id": "e53efe05",
   "metadata": {},
   "source": [
    "# ML Model to predict death chance"
   ]
  },
  {
   "cell_type": "code",
   "execution_count": null,
   "id": "df11d014",
   "metadata": {},
   "outputs": [],
   "source": [
    "data = source\n",
    "data = data.drop('Outros Fatores De Risco', axis = 1)\n",
    "data = data.drop('Data Inicio Sintomas', axis = 1)\n",
    "data = data.drop('Municipio', axis = 1)"
   ]
  },
  {
   "cell_type": "code",
   "execution_count": null,
   "id": "79272aa9",
   "metadata": {},
   "outputs": [],
   "source": [
    "data['Asma'] = data['Asma'].map({'SIM':1 ,'NÃO':0})\n",
    "data['Diabetes'] = data['Diabetes'].map({'SIM':1 ,'NÃO':0})\n",
    "data['Cardiopatia'] = data['Cardiopatia'].map({'SIM':1 ,'NÃO':0})\n",
    "data['Doenca Hematologica'] = data['Doenca Hematologica'].map({'SIM':1 ,'NÃO':0})\n",
    "data['Doenca Hepatica'] = data['Doenca Hepatica'].map({'SIM':1 ,'NÃO':0})\n",
    "data['Doenca Neurologica'] = data['Doenca Neurologica'].map({'SIM':1 ,'NÃO':0})\n",
    "data['Doenca Renal'] = data['Doenca Renal'].map({'SIM':1 ,'NÃO':0})\n",
    "data['Obesidade'] = data['Obesidade'].map({'SIM':1 ,'NÃO':0})\n",
    "data['Imunodepressao'] = data['Imunodepressao'].map({'SIM':1 ,'NÃO':0})\n",
    "data['Pneumopatia'] = data['Pneumopatia'].map({'SIM':1 ,'NÃO':0})\n",
    "data['Puérpera'] = data['Puérpera'].map({'SIM':1 ,'NÃO':0})\n",
    "data['Síndrome De Down'] = data['Síndrome De Down'].map({'SIM':1 ,'NÃO':0})\n",
    "data['Diagnostico Covid19'] = data['Diagnostico Covid19'].map({'CONFIRMADO':1})\n",
    "data['Genero'] = data['Genero'].map({'MASCULINO':1 , 'FEMININO':0})"
   ]
  },
  {
   "cell_type": "code",
   "execution_count": null,
   "id": "f2e4f865",
   "metadata": {},
   "outputs": [],
   "source": [
    "data = data.dropna(how=\"any\", axis=0)"
   ]
  },
  {
   "cell_type": "code",
   "execution_count": null,
   "id": "68861ca3",
   "metadata": {},
   "outputs": [],
   "source": [
    "data.columns[data.isna().any()]"
   ]
  },
  {
   "cell_type": "code",
   "execution_count": null,
   "id": "1cd809b7",
   "metadata": {},
   "outputs": [],
   "source": [
    "target = data['Obito']\n",
    "data = data.drop('Obito', axis=1)"
   ]
  },
  {
   "cell_type": "code",
   "execution_count": null,
   "id": "3d52484e",
   "metadata": {},
   "outputs": [],
   "source": [
    "X_train, X_test, y_train, y_test = train_test_split(data,target,test_size=0.3)"
   ]
  },
  {
   "cell_type": "code",
   "execution_count": null,
   "id": "62bd3eec",
   "metadata": {},
   "outputs": [],
   "source": [
    "from sklearn.impute import SimpleImputer\n",
    "fill_missing_mean = SimpleImputer(strategy = 'mean', missing_values = np.nan)\n",
    "\n",
    "X_train = fill_missing_mean.fit_transform(X_train)\n",
    "X_test = fill_missing_mean.fit_transform(X_test)"
   ]
  },
  {
   "cell_type": "code",
   "execution_count": null,
   "id": "976c55dc",
   "metadata": {},
   "outputs": [],
   "source": [
    "from sklearn.naive_bayes import ComplementNB\n",
    "cnb = ComplementNB()"
   ]
  },
  {
   "cell_type": "code",
   "execution_count": null,
   "id": "a06ce571",
   "metadata": {},
   "outputs": [],
   "source": [
    "cnb.fit(X_train,y_train)"
   ]
  },
  {
   "cell_type": "code",
   "execution_count": null,
   "id": "aef3ab37",
   "metadata": {},
   "outputs": [],
   "source": [
    "pred = cnb.predict(X_test)"
   ]
  },
  {
   "cell_type": "code",
   "execution_count": null,
   "id": "3e4a9771",
   "metadata": {},
   "outputs": [],
   "source": [
    "print(\"Accuracy:\", metrics.accuracy_score(y_test, pred))\n",
    "print(\"Recall:\", metrics.precision_score(y_test, pred))\n",
    "print(\"Precision:\", metrics.recall_score(y_test, pred))"
   ]
  },
  {
   "cell_type": "code",
   "execution_count": null,
   "id": "c047b64b",
   "metadata": {},
   "outputs": [],
   "source": [
    "import pickle\n",
    "\n",
    "#\n",
    "# Create your model here (same as above)\n",
    "#\n",
    "\n",
    "# Save to file in the current working directory\n",
    "pkl_filename = \"pickle_model.pkl\"\n",
    "with open(pkl_filename, 'wb') as file:\n",
    "    pickle.dump(cnb, file)\n",
    "\n",
    "# Load from file\n",
    "with open(pkl_filename, 'rb') as file:\n",
    "    pickle_model = pickle.load(file)"
   ]
  },
  {
   "cell_type": "code",
   "execution_count": null,
   "id": "592cc93e",
   "metadata": {},
   "outputs": [],
   "source": []
  }
 ],
 "metadata": {
  "kernelspec": {
   "display_name": "Python 3 (ipykernel)",
   "language": "python",
   "name": "python3"
  },
  "language_info": {
   "codemirror_mode": {
    "name": "ipython",
    "version": 3
   },
   "file_extension": ".py",
   "mimetype": "text/x-python",
   "name": "python",
   "nbconvert_exporter": "python",
   "pygments_lexer": "ipython3",
   "version": "3.9.7"
  }
 },
 "nbformat": 4,
 "nbformat_minor": 5
}
